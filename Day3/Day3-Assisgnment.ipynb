{
 "cells": [
  {
   "cell_type": "code",
   "execution_count": 3,
   "metadata": {},
   "outputs": [
    {
     "name": "stdout",
     "output_type": "stream",
     "text": [
      "(9+44j)\n"
     ]
    },
    {
     "data": {
      "text/plain": [
       "complex"
      ]
     },
     "execution_count": 3,
     "metadata": {},
     "output_type": "execute_result"
    }
   ],
   "source": [
    "# Question 1 :\n",
    "# Write a program to subtract two complex numbers in Python\n",
    "a = 5+32j\n",
    "b = 4+12j\n",
    "c = a+b\n",
    "print(c)\n",
    "type(c)"
   ]
  },
  {
   "cell_type": "code",
   "execution_count": 5,
   "metadata": {},
   "outputs": [
    {
     "name": "stdout",
     "output_type": "stream",
     "text": [
      "16\n"
     ]
    }
   ],
   "source": [
    "# Question 2 :\n",
    "# Write a program to find the fourth root of a number.\n",
    "a=2\n",
    "b=a**4\n",
    "print(b)"
   ]
  },
  {
   "cell_type": "code",
   "execution_count": 9,
   "metadata": {},
   "outputs": [
    {
     "name": "stdout",
     "output_type": "stream",
     "text": [
      "3 2\n"
     ]
    }
   ],
   "source": [
    "# Question 3:\n",
    "# Write a program to swap two numbers in Python with the help of a temporary variable.\n",
    "x=2\n",
    "y=3\n",
    "temp = x\n",
    "x = y\n",
    "y = temp\n",
    "print(x,y)"
   ]
  },
  {
   "cell_type": "code",
   "execution_count": 10,
   "metadata": {},
   "outputs": [
    {
     "name": "stdout",
     "output_type": "stream",
     "text": [
      "8 4\n"
     ]
    }
   ],
   "source": [
    "# Question 4:\n",
    "# Write a program to swap two numbers in Python without using a temporary variable.\n",
    "x=4\n",
    "y=8\n",
    "x = x + y \n",
    "y = x - y\n",
    "x = x - y\n",
    "print(x,y)"
   ]
  },
  {
   "cell_type": "code",
   "execution_count": 15,
   "metadata": {},
   "outputs": [
    {
     "name": "stdout",
     "output_type": "stream",
     "text": [
      "261.27777777777777 -12.222222222222221\n"
     ]
    }
   ],
   "source": [
    "# Question 5:\n",
    "# Write a program to convert fahrenheit to kelvin and celsius both.\n",
    "fahrenheit=10\n",
    "kelvin=273.5 + ((fahrenheit - 32.0) * (5.0/9.0))\n",
    "celsius=(fahrenheit - 32) * 5 / 9\n",
    "print(kelvin,celsius)"
   ]
  },
  {
   "cell_type": "code",
   "execution_count": 25,
   "metadata": {},
   "outputs": [
    {
     "name": "stdout",
     "output_type": "stream",
     "text": [
      "<class 'int'> <class 'float'> <class 'complex'> <class 'str'>\n"
     ]
    }
   ],
   "source": [
    "# Question 6:\n",
    "# Write a program to demonstrate all the available data types in Python. Hint: Use type() function.\n",
    "a=5\n",
    "b=2.4\n",
    "c=5+12j\n",
    "d=\"Snehasish\"\n",
    "print(type(a),type(b),type(c),type(d))"
   ]
  },
  {
   "cell_type": "markdown",
   "metadata": {},
   "source": [
    "# Question 7:\n",
    "# Create a Markdown cell in jupyter and list the steps discussed in the session by Dr. Darshan Ingle sir to create Github profile and upload Githubs Assignment link.\n",
    "1. Goto Github.com.\n",
    "2. Create the account by clicking on SignUp option. Provide the required details such as User name, email id, password and then click on the create button.\n",
    "3. Once the Github profile is created login into the Github account.\n",
    "4. Now create a new repository with the following name LetsUpgrade AI-ML by selecting the create new repository option available i the left hand top corner. While creating the repository make the repository as public and do not change any other options.\n",
    "5. In your locatl machine create day wise separate folders for assignments i.e Assignment/Day3 and save the assignment in .ipynb format.\n",
    "6. Once the assignment is completed to upload the assignment to Github, goto the LetsUpgrade AI-ML repository that you created earlier and click on uploading an existing file option.\n",
    "7. Drag and drop the whole Day3 folder in the repository. Then click on commit chnages. Once the folder is uploaded click on the folder and copy the URL of that file to verify whether that file is shared in public or not open another browser window with icognito mode and paste the copied URL there and go. If the file is visible then it's shared in public.\n",
    "8. Now goto the Assignment Submission link provide by LetsUpgrade team fill in all your details that are being asked select appropriate Day and in the Github URL section paste the URL that you copied earlier and click on Submit. This will submit your assignment and you will receive an email confirmation for that as well."
   ]
  }
 ],
 "metadata": {
  "kernelspec": {
   "display_name": "Python 3",
   "language": "python",
   "name": "python3"
  },
  "language_info": {
   "codemirror_mode": {
    "name": "ipython",
    "version": 3
   },
   "file_extension": ".py",
   "mimetype": "text/x-python",
   "name": "python",
   "nbconvert_exporter": "python",
   "pygments_lexer": "ipython3",
   "version": "3.7.6"
  }
 },
 "nbformat": 4,
 "nbformat_minor": 4
}

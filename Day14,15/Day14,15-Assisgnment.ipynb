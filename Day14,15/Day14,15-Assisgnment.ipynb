{
 "cells": [
  {
   "cell_type": "markdown",
   "metadata": {},
   "source": [
    "# 1. Create a 3x3x3 array with random values "
   ]
  },
  {
   "cell_type": "code",
   "execution_count": 1,
   "metadata": {},
   "outputs": [
    {
     "name": "stdout",
     "output_type": "stream",
     "text": [
      "[[[0.61885849 0.99604541 0.60085893]\n",
      "  [0.78701259 0.34945403 0.710571  ]\n",
      "  [0.60270317 0.00377837 0.26259899]]\n",
      "\n",
      " [[0.15422959 0.59437384 0.19126937]\n",
      "  [0.10993424 0.92335956 0.79692722]\n",
      "  [0.3706171  0.03399399 0.47996907]]\n",
      "\n",
      " [[0.52629737 0.35726461 0.84043251]\n",
      "  [0.99912198 0.29111142 0.96168811]\n",
      "  [0.89220521 0.56722663 0.19640544]]]\n"
     ]
    }
   ],
   "source": [
    "import numpy as np\n",
    "x = np.random.random((3,3,3))\n",
    "print(x)"
   ]
  },
  {
   "cell_type": "markdown",
   "metadata": {},
   "source": [
    "# 2.Create a 5x5 matrix with values 1,2,3,4 just below the diagonal"
   ]
  },
  {
   "cell_type": "code",
   "execution_count": 5,
   "metadata": {},
   "outputs": [
    {
     "name": "stdout",
     "output_type": "stream",
     "text": [
      "[[0 0 0 0 0]\n",
      " [1 0 0 0 0]\n",
      " [0 2 0 0 0]\n",
      " [0 0 3 0 0]\n",
      " [0 0 0 4 0]]\n"
     ]
    }
   ],
   "source": [
    "import numpy as np\n",
    "x = np.diag(1+np.arange(4), k = -1)\n",
    "print(x)"
   ]
  },
  {
   "cell_type": "markdown",
   "metadata": {},
   "source": [
    "# 3.Create a 8x8 matrix and fill it with a checkerboard pattern"
   ]
  },
  {
   "cell_type": "code",
   "execution_count": 6,
   "metadata": {},
   "outputs": [
    {
     "name": "stdout",
     "output_type": "stream",
     "text": [
      "[[0 1 0 1 0 1 0 1]\n",
      " [1 0 1 0 1 0 1 0]\n",
      " [0 1 0 1 0 1 0 1]\n",
      " [1 0 1 0 1 0 1 0]\n",
      " [0 1 0 1 0 1 0 1]\n",
      " [1 0 1 0 1 0 1 0]\n",
      " [0 1 0 1 0 1 0 1]\n",
      " [1 0 1 0 1 0 1 0]]\n"
     ]
    }
   ],
   "source": [
    "import numpy as np\n",
    "x = np.zeros ((8,8), dtype=int)\n",
    "x[1::2, ::2]= 1\n",
    "x[::2, 1::2] = 1\n",
    "print (x)"
   ]
  },
  {
   "cell_type": "markdown",
   "metadata": {},
   "source": [
    "# 4. Normalize a 5x5 random matrix"
   ]
  },
  {
   "cell_type": "code",
   "execution_count": 7,
   "metadata": {},
   "outputs": [
    {
     "name": "stdout",
     "output_type": "stream",
     "text": [
      "[[0.69502442 1.         0.25375136 0.62193452 0.32318016]\n",
      " [0.56418015 0.94776307 0.48577488 0.         0.1291259 ]\n",
      " [0.83829353 0.49418595 0.46194937 0.01640357 0.55967107]\n",
      " [0.91505259 0.68830626 0.99626535 0.5443655  0.67870915]\n",
      " [0.27360706 0.25689653 0.89042731 0.54756578 0.08394495]]\n"
     ]
    }
   ],
   "source": [
    "import numpy as np\n",
    "x = np.random.random((5,5))\n",
    "xmax, xmin = x.max(), x.min()\n",
    "x= (x-xmin)/(xmax-xmin)\n",
    "print (x)"
   ]
  },
  {
   "cell_type": "markdown",
   "metadata": {},
   "source": [
    "# 5.  How to find common values between two arrays?"
   ]
  },
  {
   "cell_type": "code",
   "execution_count": 9,
   "metadata": {},
   "outputs": [
    {
     "name": "stdout",
     "output_type": "stream",
     "text": [
      "Array1:  [ 5 33 45 77 99]\n",
      "Array2:  [33, 99, 41]\n",
      "Common values between two arrays:\n",
      "[33 99]\n"
     ]
    }
   ],
   "source": [
    "import numpy as np\n",
    "arr1 = np.array([5, 33, 45, 77, 99])\n",
    "print(\"Array1: \",arr1)\n",
    "arr2 = [33, 99, 41]\n",
    "print(\"Array2: \",arr2)\n",
    "print(\"Common values between two arrays:\")\n",
    "print(np.intersect1d(arr1, arr2))"
   ]
  },
  {
   "cell_type": "markdown",
   "metadata": {},
   "source": [
    "# 6.How to get the dates of yesterday, today and tomorrow?"
   ]
  },
  {
   "cell_type": "code",
   "execution_count": 10,
   "metadata": {},
   "outputs": [
    {
     "name": "stdout",
     "output_type": "stream",
     "text": [
      "Yestraday:  2020-07-26\n",
      "Today:  2020-07-27\n",
      "Tomorrow:  2020-07-28\n"
     ]
    }
   ],
   "source": [
    "import numpy as np\n",
    "yesterday = np.datetime64('today', 'D') - np.timedelta64(1, 'D')\n",
    "print(\"Yestraday: \",yesterday)\n",
    "today     = np.datetime64('today', 'D')\n",
    "print(\"Today: \",today)\n",
    "tomorrow  = np.datetime64('today', 'D') + np.timedelta64(1, 'D')\n",
    "print(\"Tomorrow: \",tomorrow)"
   ]
  },
  {
   "cell_type": "markdown",
   "metadata": {},
   "source": [
    "# 7. Consider two random array A and B, check if they are equal"
   ]
  },
  {
   "cell_type": "code",
   "execution_count": 13,
   "metadata": {},
   "outputs": [
    {
     "name": "stdout",
     "output_type": "stream",
     "text": [
      "True\n"
     ]
    }
   ],
   "source": [
    "import numpy as np\n",
    "x = np.random.randint(3,4,5)\n",
    "y = np.random.randint(3,4,5)\n",
    "equal = np.allclose(x,y)\n",
    "print(equal)"
   ]
  },
  {
   "cell_type": "markdown",
   "metadata": {},
   "source": [
    "# 8.Create random vector of size 10 and replace the maximum value by 0 "
   ]
  },
  {
   "cell_type": "code",
   "execution_count": 14,
   "metadata": {},
   "outputs": [
    {
     "name": "stdout",
     "output_type": "stream",
     "text": [
      "[0.4282526  0.05184217 0.69512139 0.10949434 0.54923379 0.37897842\n",
      " 0.48201874 0.86966553 0.54862331 0.        ]\n"
     ]
    }
   ],
   "source": [
    "import numpy as np\n",
    "x = np.random.random(10)\n",
    "x[x.argmax()] = 0\n",
    "print(x)"
   ]
  },
  {
   "cell_type": "markdown",
   "metadata": {},
   "source": [
    "# 9. How to print all the values of an array?"
   ]
  },
  {
   "cell_type": "code",
   "execution_count": 23,
   "metadata": {},
   "outputs": [
    {
     "name": "stdout",
     "output_type": "stream",
     "text": [
      "[[0. 0. 0. 0.]\n",
      " [0. 0. 0. 0.]\n",
      " [0. 0. 0. 0.]\n",
      " [0. 0. 0. 0.]]\n"
     ]
    }
   ],
   "source": [
    "import sys\n",
    "import numpy as np\n",
    "np.set_printoptions(threshold=sys.maxsize)\n",
    "x = np.zeros((4, 4))\n",
    "print(x)"
   ]
  },
  {
   "cell_type": "markdown",
   "metadata": {},
   "source": [
    "# 10.Subtract the mean of each row of a matrix"
   ]
  },
  {
   "cell_type": "code",
   "execution_count": 26,
   "metadata": {},
   "outputs": [
    {
     "data": {
      "text/plain": [
       "array([[ 0.05770222, -0.17181283,  0.01983191, -0.52195949, -0.15109457,\n",
       "        -0.06892492,  0.28333415,  0.41375381, -0.12814577,  0.26731549],\n",
       "       [ 0.18067952,  0.46242872, -0.39337624, -0.25510228, -0.02793589,\n",
       "        -0.22711296, -0.06312706,  0.35156594, -0.02605617, -0.00196358],\n",
       "       [-0.47681736,  0.33295124, -0.05232046, -0.09596308, -0.13021965,\n",
       "         0.20215679, -0.36870089,  0.38587333, -0.14440938,  0.34744948],\n",
       "       [ 0.44571387, -0.09162269,  0.26454691, -0.29654333,  0.1585744 ,\n",
       "        -0.39377045, -0.07183374,  0.08865159,  0.11569446, -0.21941102],\n",
       "       [-0.08246565, -0.53082588,  0.03500027,  0.31008395, -0.30009073,\n",
       "         0.15632387,  0.38643858,  0.27900551, -0.52683763,  0.27336771]])"
      ]
     },
     "execution_count": 26,
     "metadata": {},
     "output_type": "execute_result"
    }
   ],
   "source": [
    "import numpy as np\n",
    "x = np.random.rand(5, 10)\n",
    "y = x - x.mean(axis=1, keepdims=True)\n",
    "y"
   ]
  },
  {
   "cell_type": "markdown",
   "metadata": {},
   "source": [
    "# 11.Consider a given vector, how to add 1 to each element indexed by a second vector (be careful with repeated indices)? "
   ]
  },
  {
   "cell_type": "code",
   "execution_count": 27,
   "metadata": {},
   "outputs": [
    {
     "name": "stdout",
     "output_type": "stream",
     "text": [
      "[2. 5. 5. 3. 3. 2. 2. 4. 2. 2.]\n"
     ]
    }
   ],
   "source": [
    "import numpy as np\n",
    "x = np.ones(10)\n",
    "y = np.random.randint(0,len(x),20)\n",
    "x += np.bincount(y, minlength=len(x))\n",
    "print(x)"
   ]
  },
  {
   "cell_type": "markdown",
   "metadata": {},
   "source": [
    "# 12.How to get the diagonal of a dot product?"
   ]
  },
  {
   "cell_type": "code",
   "execution_count": 28,
   "metadata": {},
   "outputs": [
    {
     "data": {
      "text/plain": [
       "array([94, 26, 89])"
      ]
     },
     "execution_count": 28,
     "metadata": {},
     "output_type": "execute_result"
    }
   ],
   "source": [
    "import numpy as np\n",
    "x = np.random.randint(0,10,(3,3))\n",
    "y = np.random.randint(0,10,(3,3))\n",
    "np.einsum(\"ij,ji->i\", x, y)"
   ]
  },
  {
   "cell_type": "markdown",
   "metadata": {},
   "source": [
    "# 13.How to find the most frequent value in an array?"
   ]
  },
  {
   "cell_type": "code",
   "execution_count": 29,
   "metadata": {},
   "outputs": [
    {
     "name": "stdout",
     "output_type": "stream",
     "text": [
      "[0 2 0 3 0 0 1 4 1 4]\n",
      "rank: 0\n"
     ]
    }
   ],
   "source": [
    "import numpy as np\n",
    "x = np.random.randint(0,5,10)\n",
    "print (x)\n",
    "print('rank:', np.bincount(x).argmax())"
   ]
  },
  {
   "cell_type": "markdown",
   "metadata": {},
   "source": [
    "# 14.How to get the n largest values of an array"
   ]
  },
  {
   "cell_type": "code",
   "execution_count": 30,
   "metadata": {},
   "outputs": [
    {
     "name": "stdout",
     "output_type": "stream",
     "text": [
      "[998 997 999 996 995]\n"
     ]
    }
   ],
   "source": [
    "import numpy as np\n",
    "x = np.arange(1000)\n",
    "np.random.shuffle(x)\n",
    "n = 5\n",
    "print (x[np.argpartition(-x,n)[:n]])"
   ]
  },
  {
   "cell_type": "markdown",
   "metadata": {},
   "source": [
    "# 15.How to create a record array from a regular array?"
   ]
  },
  {
   "cell_type": "code",
   "execution_count": 38,
   "metadata": {},
   "outputs": [
    {
     "data": {
      "text/plain": [
       "rec.array([(b'Snehasis', 2.5, 3), (b'Swain', 3.6, 2)],\n",
       "          dtype=[('col1', 'S8'), ('col2', '<f8'), ('col3', '<i8')])"
      ]
     },
     "execution_count": 38,
     "metadata": {},
     "output_type": "execute_result"
    }
   ],
   "source": [
    "import numpy as np\n",
    "x = np.array([(\"Snehasish\", 2.5, 3),\n",
    "              (\"Swain\", 3.6, 2)])\n",
    "y = np.core.records.fromarrays(x.T,\n",
    "                               names='col1, col2, col3',\n",
    "                               formats = 'S8, f8, i8')\n",
    "y"
   ]
  },
  {
   "cell_type": "code",
   "execution_count": null,
   "metadata": {},
   "outputs": [],
   "source": []
  }
 ],
 "metadata": {
  "kernelspec": {
   "display_name": "Python 3",
   "language": "python",
   "name": "python3"
  },
  "language_info": {
   "codemirror_mode": {
    "name": "ipython",
    "version": 3
   },
   "file_extension": ".py",
   "mimetype": "text/x-python",
   "name": "python",
   "nbconvert_exporter": "python",
   "pygments_lexer": "ipython3",
   "version": "3.7.6"
  }
 },
 "nbformat": 4,
 "nbformat_minor": 2
}

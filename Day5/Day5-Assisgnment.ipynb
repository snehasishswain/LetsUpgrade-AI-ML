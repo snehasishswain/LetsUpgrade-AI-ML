{
 "cells": [
  {
   "cell_type": "code",
   "execution_count": 38,
   "metadata": {},
   "outputs": [
    {
     "name": "stdout",
     "output_type": "stream",
     "text": [
      "3 5 7 11 13 17 19 23 29 31 37 41 43 47 53 59 61 67 71 73 "
     ]
    }
   ],
   "source": [
    "# Question 1 :\n",
    "# Write a Python program to find the first 20 non-even prime natural numbers.\n",
    "def prime(num):\n",
    "    for i in range(2,num):\n",
    "        if((num%i)==0):\n",
    "            return False\n",
    "            break\n",
    "    return True\n",
    "count=0\n",
    "for j in range(3,200):\n",
    "    if(prime(j)==True):\n",
    "        print(j,end=\" \")\n",
    "        count=count+1\n",
    "    if(count==20):\n",
    "        break"
   ]
  },
  {
   "cell_type": "code",
   "execution_count": 26,
   "metadata": {},
   "outputs": [
    {
     "name": "stdout",
     "output_type": "stream",
     "text": [
      "Snehasish is a letsupgradian ['Snehasish', 'is', 'a', 'LetsUpgradian'] Snehasish Is A Letsupgradian sNEHASISH IS A lETSuPGRADIAN b'Snehasish is a LetsUpgradian' SNEHASISH IS A LETSUPGRADIAN Snehasish is a LetsUpgradian Snehasish is a LetsUpgradian Snehasish is a LetsUpgradian ['Snehasish', 'is', 'a', 'LetsUpgradian'] Snehasish is a LetsUpgradian False False True False\n"
     ]
    }
   ],
   "source": [
    "# Question 2 :\n",
    "# Write a Python program to implement 15 functions of string.\n",
    "a=\"Snehasish is a LetsUpgradian\"\n",
    "b=a.capitalize()\n",
    "c=a.split()\n",
    "d=a.title()\n",
    "e=a.swapcase()\n",
    "f=a.encode()\n",
    "g=a.upper()\n",
    "h=a.expandtabs()\n",
    "i=a.rstrip()\n",
    "j=a.format()\n",
    "k=a.rsplit()\n",
    "l=a.zfill(2)\n",
    "m=a.isalnum()\n",
    "n=a.isalpha()\n",
    "o=a.isascii()\n",
    "p=a.isidentifier()\n",
    "print(b,c,d,e,f,g,h,i,j,k,l,m,n,o,p)"
   ]
  },
  {
   "cell_type": "code",
   "execution_count": 28,
   "metadata": {},
   "outputs": [
    {
     "name": "stdout",
     "output_type": "stream",
     "text": [
      "Enter a string:ctc\n",
      "Enter a string:ctc\n",
      "String is a palindrome\n"
     ]
    }
   ],
   "source": [
    "# Question 3:\n",
    "# Write a Python program to check if the given string is a Palindrome or Anagram or None of them.\n",
    "# Display the message accordingly to the user.\n",
    "a=input(\"Enter a string:\")\n",
    "b=input(\"Enter a string:\")\n",
    "if(b[::-1]==a):\n",
    "    print(\"String is a palindrome\")\n",
    "elif(sorted(b)==sorted(a)):\n",
    "    print(\"String is an anagram\")\n",
    "else:\n",
    "    printint(\"String is neither anagram nor palindrome\")"
   ]
  },
  {
   "cell_type": "code",
   "execution_count": 34,
   "metadata": {},
   "outputs": [
    {
     "name": "stdout",
     "output_type": "stream",
     "text": [
      "Final String is: drdarshaningleaimltrainer\n"
     ]
    }
   ],
   "source": [
    "#Question 4:\n",
    "# Write a Python's user defined function that removes all the additional characters from the string and converts it finally to lower case using built-in lower(). eg: If the string is \"Dr. Darshan Ingle @AI-ML Trainer\", then the output be \"drdarshaningleaimltrainer\".\n",
    "def replace_char(x):\n",
    "    additional_char=['!','@','#','$','%','^','&','*','(',')','+','_','?','.',':','-',' ']\n",
    "    for i in additional_char:\n",
    "        x=x.replace(i,'')\n",
    "        x=x.lower()\n",
    "    print(\"Final String is:\",x)\n",
    "original_string=\"Dr. Darshan Ingle @AI-ML Trainer\"\n",
    "replace_char(original_string)"
   ]
  }
 ],
 "metadata": {
  "kernelspec": {
   "display_name": "Python 3",
   "language": "python",
   "name": "python3"
  },
  "language_info": {
   "codemirror_mode": {
    "name": "ipython",
    "version": 3
   },
   "file_extension": ".py",
   "mimetype": "text/x-python",
   "name": "python",
   "nbconvert_exporter": "python",
   "pygments_lexer": "ipython3",
   "version": "3.7.6"
  }
 },
 "nbformat": 4,
 "nbformat_minor": 4
}

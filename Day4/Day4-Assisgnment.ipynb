{
 "cells": [
  {
   "cell_type": "code",
   "execution_count": 8,
   "metadata": {},
   "outputs": [
    {
     "name": "stdout",
     "output_type": "stream",
     "text": [
      "(16+10j) (4+2j) (36+76j) (1.6153846153846154-0.07692307692307686j)\n"
     ]
    }
   ],
   "source": [
    "#Question 1 :\n",
    "#Research on whether addition, subtraction, multiplication, division, floor division and modulo operations be performed on complex numbers. Based on your study, implement a Python program to demonstrate these operations.\n",
    "a=10+6j\n",
    "b=6+4j\n",
    "c=a+b\n",
    "d=a-b\n",
    "e=a*b\n",
    "f=a/b\n",
    "#floor division can not be performed on complex numbers\n",
    "#modulo operation can not be performed on complex numbers\n",
    "print(c,d,e,f)"
   ]
  },
  {
   "cell_type": "markdown",
   "metadata": {},
   "source": [
    "# Question 2 :\n",
    "# Research on range() functions and its parameters. Create a markdown cell and write in your own words (no copy-paste from google please) what you understand about it. Implement a small program of your choice on the same.\n",
    "1. Range is a function and is notified as followed range().\n",
    "2. When we provide range of any number n it always going to give us the output as n-1. Example: range(4), output:0,1,2,3\n",
    "3. range functions are used with loops\n",
    "4. range() function can be represented in three different ways:\n",
    "    range(stop_value) : This by default considers the starting point as zero.\n",
    "    range(start_value, stop_value) : This generates the sequence based on the start and stop value.\n",
    "    range(start_value, stop_value, step_size): It generates the sequence by incrementing the start value using the step size       until it reaches the stop value.\n",
    "    stop_value and start_value refers to index."
   ]
  },
  {
   "cell_type": "code",
   "execution_count": 13,
   "metadata": {},
   "outputs": [
    {
     "name": "stdout",
     "output_type": "stream",
     "text": [
      "0\n",
      "1\n",
      "2\n",
      "3\n"
     ]
    }
   ],
   "source": [
    "for i in range(4):\n",
    "    print(i)"
   ]
  },
  {
   "cell_type": "code",
   "execution_count": 10,
   "metadata": {},
   "outputs": [
    {
     "name": "stdout",
     "output_type": "stream",
     "text": [
      "2.0\n"
     ]
    }
   ],
   "source": [
    "#Question 3:\n",
    "#Consider two numbers. Perform their subtraction and if the result of subtraction is greater than 25, print their multiplication result else print their division result.\n",
    "a=10\n",
    "b=5\n",
    "c=a-b\n",
    "if c > 25:\n",
    "    print(a*b)\n",
    "else:\n",
    "    print(a/b)"
   ]
  },
  {
   "cell_type": "code",
   "execution_count": 11,
   "metadata": {},
   "outputs": [
    {
     "name": "stdout",
     "output_type": "stream",
     "text": [
      "2\n",
      "12\n",
      "22\n",
      "44\n",
      "48\n"
     ]
    }
   ],
   "source": [
    "#Question 4:\n",
    "#Consider a list of 10 elements of integer values. If the number in the list is divisible by 2, print the result as \"square of that number minus 2\".\n",
    "l=[2,12,15,33,22,44,37,48,69,123]\n",
    "for i in l:\n",
    "    if i%2==0:\n",
    "        print(i^2-2)"
   ]
  },
  {
   "cell_type": "code",
   "execution_count": 12,
   "metadata": {},
   "outputs": [
    {
     "name": "stdout",
     "output_type": "stream",
     "text": [
      "12\n",
      "22\n",
      "44\n",
      "48\n"
     ]
    }
   ],
   "source": [
    "#Question 5:\n",
    "#Consider a list of 10 elements. Print all the elements in the list which are greater than 7 when that number is divided 2.\n",
    "l=[2,12,15,33,22,44,37,48,69,123]\n",
    "for i in l:\n",
    "    if i%2==0 and i>7:\n",
    "        print(i)"
   ]
  }
 ],
 "metadata": {
  "kernelspec": {
   "display_name": "Python 3",
   "language": "python",
   "name": "python3"
  },
  "language_info": {
   "codemirror_mode": {
    "name": "ipython",
    "version": 3
   },
   "file_extension": ".py",
   "mimetype": "text/x-python",
   "name": "python",
   "nbconvert_exporter": "python",
   "pygments_lexer": "ipython3",
   "version": "3.7.6"
  }
 },
 "nbformat": 4,
 "nbformat_minor": 4
}
